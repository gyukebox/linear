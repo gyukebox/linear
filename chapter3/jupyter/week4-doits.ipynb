{
 "cells": [
  {
   "cell_type": "code",
   "execution_count": 1,
   "metadata": {},
   "outputs": [
    {
     "name": "stdout",
     "output_type": "stream",
     "text": [
      "[1 2 3 4 5]\n",
      "[ 5 10 15 20 25]\n"
     ]
    }
   ],
   "source": [
    "import numpy as np\n",
    "\n",
    "a = np.array([1, 2, 3, 4, 5])\n",
    "b = 5\n",
    "\n",
    "print(a)\n",
    "print(a * b)"
   ]
  },
  {
   "cell_type": "code",
   "execution_count": 2,
   "metadata": {},
   "outputs": [
    {
     "name": "stdout",
     "output_type": "stream",
     "text": [
      "[1 2 3]\n"
     ]
    }
   ],
   "source": [
    "b = np.arange(1, 4)\n",
    "print(b)"
   ]
  },
  {
   "cell_type": "code",
   "execution_count": 6,
   "metadata": {},
   "outputs": [
    {
     "name": "stdout",
     "output_type": "stream",
     "text": [
      "[[ 0.86671088]\n",
      " [ 1.61246684]\n",
      " [ 2.57228117]]\n"
     ]
    }
   ],
   "source": [
    "import numpy as np\n",
    "\n",
    "item_list = ['bolt', 'screw', 'nut', 'bracket']\n",
    "x_coordinates = np.array([0.1, 1, 1.5, 2])\n",
    "y_coordinates = np.array([2, 1, 0.2, 2])\n",
    "z_coordinates = np.array([3, 1, 0.5, 4])\n",
    "mass = np.array([3.50, 1.50, 0.79, 1.75])\n",
    "\n",
    "x_location = np.dot(x_coordinates, mass) / sum(mass)\n",
    "y_location = np.dot(y_coordinates, mass) / sum(mass)\n",
    "z_location = np.dot(z_coordinates, mass) / sum(mass)\n",
    "\n",
    "locations = np.array([x_location, y_location, z_location]).reshape(3, 1)\n",
    "print(locations)"
   ]
  },
  {
   "cell_type": "code",
   "execution_count": null,
   "metadata": {},
   "outputs": [],
   "source": [
    "import matplotlib.pyplot as plt\n",
    "\n",
    "# 이전 결과를 그래프로 그리기!"
   ]
  },
  {
   "cell_type": "code",
   "execution_count": 11,
   "metadata": {},
   "outputs": [
    {
     "name": "stdout",
     "output_type": "stream",
     "text": [
      "[[ 0.50487303 -0.66533404 -1.45772002]\n",
      " [-0.02505508  1.7556062   0.14927369]\n",
      " [ 0.93093315  0.16428017  0.55427607]]\n",
      "[[ 0.70818167         nan         nan]\n",
      " [        nan  2.68607258  0.7528309 ]\n",
      " [ 0.93554611  0.74325218  0.72103032]]\n"
     ]
    },
    {
     "name": "stderr",
     "output_type": "stream",
     "text": [
      "/Users/gyukebox/school/2-2/la/py/algebra-env/lib/python3.6/site-packages/ipykernel_launcher.py:3: RuntimeWarning: invalid value encountered in power\n",
      "  This is separate from the ipykernel package so we can avoid doing imports until\n"
     ]
    }
   ],
   "source": [
    "a = np.random.randn(9).reshape((3, 3))\n",
    "print(a)\n",
    "print(a ** a)"
   ]
  },
  {
   "cell_type": "code",
   "execution_count": 13,
   "metadata": {},
   "outputs": [
    {
     "name": "stdout",
     "output_type": "stream",
     "text": [
      "[[1 2 3]\n",
      " [4 5 6]\n",
      " [7 8 9]]\n",
      "[[ 1  4  9]\n",
      " [16 25 36]\n",
      " [49 64 81]]\n"
     ]
    }
   ],
   "source": [
    "a = np.arange(1, 10).reshape(3, 3)\n",
    "print(a)\n",
    "print(a ** 2)"
   ]
  },
  {
   "cell_type": "code",
   "execution_count": null,
   "metadata": {},
   "outputs": [],
   "source": []
  }
 ],
 "metadata": {
  "kernelspec": {
   "display_name": "algebra-env",
   "language": "python",
   "name": "algebra-env"
  },
  "language_info": {
   "codemirror_mode": {
    "name": "ipython",
    "version": 3
   },
   "file_extension": ".py",
   "mimetype": "text/x-python",
   "name": "python",
   "nbconvert_exporter": "python",
   "pygments_lexer": "ipython3",
   "version": "3.6.1"
  }
 },
 "nbformat": 4,
 "nbformat_minor": 2
}
