{
 "cells": [
  {
   "cell_type": "code",
   "execution_count": 5,
   "metadata": {},
   "outputs": [
    {
     "name": "stdout",
     "output_type": "stream",
     "text": [
      "[[1 2 3]\n",
      " [4 5 6]\n",
      " [7 8 9]]\n",
      "-9.51619735393e-16\n",
      "0.0\n",
      "(-1.0, -34.588366156510311)\n",
      "-9.51619735393e-16\n"
     ]
    }
   ],
   "source": [
    "import numpy as np\n",
    "from scipy import linalg\n",
    "\n",
    "# 행렬식(determinant) 구하는 식\n",
    "a = np.array([[1, 2, 3], [4, 5, 6], [7, 8, 9]])\n",
    "print(a)\n",
    "print(np.linalg.det(a))\n",
    "print(linalg.det(a))\n",
    "s, md = np.linalg.slogdet(a)\n",
    "print(np.linalg.slogdet(a))\n",
    "print(s * np.exp(md))"
   ]
  },
  {
   "cell_type": "code",
   "execution_count": 4,
   "metadata": {},
   "outputs": [
    {
     "name": "stdout",
     "output_type": "stream",
     "text": [
      "[[3 1 3]\n",
      " [2 2 3]\n",
      " [1 1 1]]\n",
      "-2.0\n",
      "(-1.0, 0.6931471805599454)\n",
      "-2.0\n",
      "[[2 3]\n",
      " [1 1]]\n",
      "-1.0\n",
      "[[2 3]\n",
      " [1 1]]\n",
      "-1.0\n",
      "[[2 2]\n",
      " [1 1]]\n",
      "0.0\n",
      "-2.0\n"
     ]
    }
   ],
   "source": [
    "# 여인수에 의한 행렬식 구해보기\n",
    "import numpy as np\n",
    "\n",
    "a = np.array([[3, 1, 3], [2, 2, 3], [1, 1, 1]])\n",
    "print(a)\n",
    "print(np.linalg.det(a))\n",
    "\n",
    "s, md = np.linalg.slogdet(a)\n",
    "print(np.linalg.slogdet(a))\n",
    "print(s * np.exp(md))\n",
    "m11 = np.linalg.det(a[1:, 1:])\n",
    "m12 = np.linalg.det(a[1:, (0, 2)])\n",
    "m13 = np.linalg.det(a[1:, (0, 1)])\n",
    "print(a[1:, 1:])\n",
    "print(m11)\n",
    "print(a[1:, (0, 2)])\n",
    "print(m12)\n",
    "print(a[1:, (0, 1)])\n",
    "print(m13)\n",
    "print(m11 * a[0, 0] - m12 * a[0, 1] + m13 * a[0, 2])"
   ]
  },
  {
   "cell_type": "code",
   "execution_count": 6,
   "metadata": {},
   "outputs": [
    {
     "name": "stdout",
     "output_type": "stream",
     "text": [
      "[[1 2]\n",
      " [3 4]]\n",
      "[[-2.   1. ]\n",
      " [ 1.5 -0.5]]\n"
     ]
    }
   ],
   "source": [
    "# 역행렬 구하기\n",
    "\n",
    "a = np.array([[1, 2], [3, 4]])\n",
    "inv = np.linalg.inv(a)\n",
    "print(a)\n",
    "print(inv)"
   ]
  },
  {
   "cell_type": "code",
   "execution_count": null,
   "metadata": {},
   "outputs": [],
   "source": []
  }
 ],
 "metadata": {
  "kernelspec": {
   "display_name": "algebra-env",
   "language": "python",
   "name": "algebra-env"
  },
  "language_info": {
   "codemirror_mode": {
    "name": "ipython",
    "version": 3
   },
   "file_extension": ".py",
   "mimetype": "text/x-python",
   "name": "python",
   "nbconvert_exporter": "python",
   "pygments_lexer": "ipython3",
   "version": "3.6.1"
  }
 },
 "nbformat": 4,
 "nbformat_minor": 2
}
