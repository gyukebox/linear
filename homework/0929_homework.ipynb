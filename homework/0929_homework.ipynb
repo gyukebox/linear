{
 "cells": [
  {
   "cell_type": "code",
   "execution_count": 1,
   "metadata": {},
   "outputs": [
    {
     "name": "stdout",
     "output_type": "stream",
     "text": [
      "[  10000   50000  100000 1000000]\n",
      "[   8.745   43.725   87.45   874.5  ]\n",
      "[   7.458   37.29    74.58   745.8  ]\n",
      "[   6.531   32.655   65.31   653.1  ]\n",
      "[   11.12    55.6    111.2   1112.  ]\n"
     ]
    }
   ],
   "source": [
    "import numpy as np\n",
    "\n",
    "# 연습문제 1 - 환율계산하기\n",
    "# 1원은 얼마다\n",
    "us_dollar = 0.0008745\n",
    "euro = 0.0007458\n",
    "yen = 0.09863\n",
    "pound = 0.0006531\n",
    "australia_dollar = 0.001112\n",
    "\n",
    "money = np.array([10000, 50000, 100000, 1000000])\n",
    "print(money)\n",
    "print(money * us_dollar)\n",
    "print(money * euro)\n",
    "print(money * pound)\n",
    "print(money * australia_dollar)"
   ]
  },
  {
   "cell_type": "code",
   "execution_count": 2,
   "metadata": {},
   "outputs": [
    {
     "name": "stdout",
     "output_type": "stream",
     "text": [
      "[[  0   0 272   0   0   0   0   9  26   1   0   0   0  50  85   0   0  90\n",
      "    9   0   0   1  15 224   0   0   0   0   0  33  33]\n",
      " [ 61 103   0   2   0   0   0   2   0  68   3   3   1   0   0   0   1 135\n",
      "    3  66   0   0   0   5   0   0   0  62   0   0   0]\n",
      " [  2   0  17  27   0  10   0   0  30  25   0   0   0  45  70   0   0   0\n",
      "    0   0  27  26   0   0   9   6  78   0   5   8   0]\n",
      " [260   1   0   0   0   1   3   0   5   0   0   0   0   0  10  51   0   0\n",
      "    0   0   0   0   0   0   0   9  35  13  86   0   0]\n",
      " [ 47   0   0   0   5 115  49  81   0   0   0   0   1  10   1   0   0   0\n",
      "   10   0   0   0   0   0   0   0   2   0   0   0   0]\n",
      " [  0   0  30  42   0   0   0   0   0   0   0   0   0   0   0  97 133   0\n",
      "    0   0   0   0   2   2 240  16  35  14  14   8   0]\n",
      " [  0   0   0   0   0   0   0   7   0   0  58 157  52   0   0   0   0   0\n",
      "    7   0  21   0   0   0  10   0   0   5   0   0   0]\n",
      " [  0  45   0   0   0   0   0   0   5   0   0   0   0   6   0   0   0   0\n",
      "    0   0   1   0   0 158  62   1   0   0   0   0   0]\n",
      " [  0   0   0   0   0   0   0   0   0   0   0   0   0   0   0   0   0   0\n",
      "    0   0   0  37   0   0   0   0   6 138  58  10   0]\n",
      " [  0   0   0  14 156   0   0   0   0 110 130   0  14  19   0   0   0   0\n",
      "    0  30  92   0   0   0   0   0   0   0   0   0   1]\n",
      " [  1 163   5   0   0   0   0   0   0   0   0   1   0   0   0   0   0   0\n",
      "    0   1  26   0   2   2  10 255   2   0   0   0   0]\n",
      " [  0   0   0   0   0  45   0   0   0  15  37   0  36  97   0   0   0   0\n",
      "    0  20   2  34   0   0   0   0   0   0   0   0   0]]\n"
     ]
    }
   ],
   "source": [
    "# 과제 2 - 날씨 데이터 분석(그런데 숫자가 무엇을 의미하나요?)\n",
    "import xlrd\n",
    "\n",
    "# 엑셀 파일 읽기\n",
    "book = xlrd.open_workbook('WEATHER_DATA.XLS')\n",
    "sh = book.sheet_by_index(0)\n",
    "a = [element.value for i in range(sh.nrows) for element in sh.row(rowx=i)]\n",
    "a = [0 if element == -99999 else element for element in a]\n",
    "\n",
    "# numpy 행렬로 바꾸기\n",
    "matrix = np.array(a, dtype=int).reshape((sh.nrows, sh.ncols))\n",
    "print(matrix)"
   ]
  },
  {
   "cell_type": "code",
   "execution_count": null,
   "metadata": {},
   "outputs": [],
   "source": [
    "# 행마다 평균 및 표준편차 구하기\n"
   ]
  },
  {
   "cell_type": "code",
   "execution_count": null,
   "metadata": {},
   "outputs": [],
   "source": [
    "# 그래프 그리기\n",
    "import matplotlib.pyplot as plt\n",
    "\n",
    "plt.figure()\n",
    "plt.plot(matrix)\n",
    "plt.grid()\n",
    "plt.show()"
   ]
  }
 ],
 "metadata": {
  "kernelspec": {
   "display_name": "algebra-env",
   "language": "python",
   "name": "algebra-env"
  },
  "language_info": {
   "codemirror_mode": {
    "name": "ipython",
    "version": 3
   },
   "file_extension": ".py",
   "mimetype": "text/x-python",
   "name": "python",
   "nbconvert_exporter": "python",
   "pygments_lexer": "ipython3",
   "version": "3.6.1"
  }
 },
 "nbformat": 4,
 "nbformat_minor": 2
}
