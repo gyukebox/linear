{
 "cells": [
  {
   "cell_type": "code",
   "execution_count": 4,
   "metadata": {
    "scrolled": true
   },
   "outputs": [
    {
     "name": "stdout",
     "output_type": "stream",
     "text": [
      "7\n",
      "10\n",
      "2.5\n",
      "2\n",
      "1\n",
      "17\n",
      "7.815384615384615\n",
      "12.96\n",
      "2.2360679775\n",
      "-1.0\n"
     ]
    }
   ],
   "source": [
    "import numpy as np\n",
    "\n",
    "print(5 + 2)\n",
    "print(5 * 2)\n",
    "print(5 / 2)\n",
    "print(5 // 2)\n",
    "print(5 % 2)\n",
    "print(3 + 2 * (4 + 3))\n",
    "print(2.54 * 8 / 2.6)\n",
    "print(3.6 ** 2)\n",
    "print(np.sqrt(5))\n",
    "print(np.cos(np.pi))"
   ]
  },
  {
   "cell_type": "code",
   "execution_count": 5,
   "metadata": {},
   "outputs": [
    {
     "name": "stdout",
     "output_type": "stream",
     "text": [
      "[[1 2]\n",
      " [3 4]]\n",
      "[[ 1  4]\n",
      " [ 9 16]]\n",
      "[[ 7 10]\n",
      " [15 22]]\n"
     ]
    }
   ],
   "source": [
    "import numpy as np\n",
    "\n",
    "a = np.arange(1, 5).reshape((2, 2))\n",
    "print(a)\n",
    "print(a * a)\n",
    "print(np.dot(a, a))"
   ]
  },
  {
   "cell_type": "code",
   "execution_count": 1,
   "metadata": {},
   "outputs": [
    {
     "data": {
      "image/png": "[encoded data removed]",
      "text/plain": [
       "<matplotlib.figure.Figure at 0x106e28828>"
      ]
     },
     "metadata": {},
     "output_type": "display_data"
    }
   ],
   "source": [
    "import numpy as np\n",
    "import matplotlib.pyplot as plt\n",
    "\n",
    "x = np.array([1, 2, 3, 4, 5])\n",
    "y = np.array([10, 20, 30, 40, 50])\n",
    "plt.plot(x, y)\n",
    "plt.show()"
   ]
  },
  {
   "cell_type": "code",
   "execution_count": 8,
   "metadata": {
    "scrolled": true
   },
   "outputs": [
    {
     "name": "stdout",
     "output_type": "stream",
     "text": [
      "[1 2 3 4 5]\n",
      "[1 3 5]\n",
      "[  1.     3.25   5.5    7.75  10.  ]\n",
      "[  1.00000000e+01   1.77827941e+03   3.16227766e+05   5.62341325e+07\n",
      "   1.00000000e+10]\n"
     ]
    }
   ],
   "source": [
    "import numpy as np\n",
    "\n",
    "a = np.arange(1, 6)\n",
    "b = np.arange(1, 6, 2)\n",
    "c = np.linspace(1, 10, 5)\n",
    "d = np.logspace(1, 10, 5)\n",
    "print(a)\n",
    "print(b)\n",
    "print(c)\n",
    "print(d)"
   ]
  },
  {
   "cell_type": "code",
   "execution_count": 12,
   "metadata": {},
   "outputs": [
    {
     "name": "stdout",
     "output_type": "stream",
     "text": [
      "[ 0.87301631  0.5394143   0.28198645  0.4818462   0.42826838  0.49707129\n",
      "  0.29125276  0.91402327  0.36008178  0.10785924  0.33816489  0.0876029\n",
      "  0.9307203   0.27958393  0.63162587  0.37125047  0.22724982  0.00455626\n",
      "  0.20613607  0.16082947  0.52844003  0.59341927  0.16750897  0.10635252\n",
      "  0.83670025  0.35743437  0.9540364   0.1260235   0.83941518  0.32842964\n",
      "  0.57460274  0.78173421  0.34696202  0.46196606  0.07479432  0.00153413\n",
      "  0.27061603  0.4299242   0.53931177  0.86854235  0.39252316  0.58507016\n",
      "  0.78198103  0.42137942  0.48858034  0.87214152  0.1302114   0.7569631\n",
      "  0.70919925  0.02155935  0.13408276  0.42753888  0.95761156  0.57187422\n",
      "  0.44273878  0.58972805  0.27259434  0.93508402  0.42542956  0.46810433\n",
      "  0.76660519  0.25892534  0.47312799  0.11839043  0.80075385  0.83072459\n",
      "  0.20551508  0.54313697  0.8820514   0.97814954  0.72969389  0.11888921\n",
      "  0.49257446  0.58157986  0.61573842  0.32338834  0.96156602  0.8636889\n",
      "  0.20567692  0.44173798  0.69105623  0.88941487  0.11274935  0.09218451\n",
      "  0.66059532  0.73661144  0.45294691  0.39918399  0.83069782  0.09601089\n",
      "  0.71053841  0.66610892  0.99304813  0.94644849  0.09688773  0.46669349\n",
      "  0.0151233   0.00779083  0.24421966  0.37944204]\n",
      "[ 29  31  63  10  59  92  30   3  88  57  49  97   2  89  54  75  24  97\n",
      "  59  26  85  62  53  89  84  40  40  90  92  51  22  22  12  28  46  45\n",
      "  28  43 100  85  40   4  99  55  30   1  38  15  61  26  15  14   3   1\n",
      "  10  11  20  67  22  97  70  11  66  83  12  23  16   3  44  16  39  92\n",
      "  47   8  83  39  77  79  35  65  24   6   3  51  22   4  67  63  32  20\n",
      "  15  84  83  90  42   7  58  81  86  38]\n"
     ]
    }
   ],
   "source": [
    "import numpy as np\n",
    "\n",
    "a = np.random.rand(100)\n",
    "c = np.random.randint(1, 101, 100)\n",
    "print(a)\n",
    "print(c)"
   ]
  },
  {
   "cell_type": "code",
   "execution_count": 17,
   "metadata": {},
   "outputs": [
    {
     "name": "stdout",
     "output_type": "stream",
     "text": [
      "[[10 15 20 30]\n",
      " [45 60 70 90]]\n",
      "[[ 0.17453293  0.26179939  0.34906585  0.52359878]\n",
      " [ 0.78539816  1.04719755  1.22173048  1.57079633]]\n"
     ]
    }
   ],
   "source": [
    "import numpy as np\n",
    "\n",
    "degrees = np.array([10, 15, 20, 30, 45, 60, 70, 90]).reshape((2, 4))\n",
    "radians = degrees * np.pi / 180\n",
    "print(degrees)\n",
    "print(radians)"
   ]
  },
  {
   "cell_type": "code",
   "execution_count": 20,
   "metadata": {},
   "outputs": [
    {
     "name": "stdout",
     "output_type": "stream",
     "text": [
      "20019118.25793633\n"
     ]
    }
   ],
   "source": [
    "import numpy as np\n",
    "\n",
    "drag = 20000\n",
    "rho = 1 * (10 ** -6)\n",
    "v = 100 * 0.4470\n",
    "a = 1\n",
    "\n",
    "cd = (2 * drag) / (rho * (v ** 2) * a)\n",
    "print(cd)"
   ]
  },
  {
   "cell_type": "code",
   "execution_count": null,
   "metadata": {
    "collapsed": true
   },
   "outputs": [],
   "source": []
  }
 ],
 "metadata": {
  "kernelspec": {
   "display_name": "algebra-env",
   "language": "python",
   "name": "algebra-env"
  },
  "language_info": {
   "codemirror_mode": {
    "name": "ipython",
    "version": 3
   },
   "file_extension": ".py",
   "mimetype": "text/x-python",
   "name": "python",
   "nbconvert_exporter": "python",
   "pygments_lexer": "ipython3",
   "version": "3.6.1"
  }
 },
 "nbformat": 4,
 "nbformat_minor": 2
}
